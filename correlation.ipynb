{
  "nbformat": 4,
  "nbformat_minor": 0,
  "metadata": {
    "colab": {
      "name": "Untitled",
      "provenance": [],
      "authorship_tag": "ABX9TyM09QCUXEACum7mSgV1Vdtn",
      "include_colab_link": true
    },
    "kernelspec": {
      "name": "python3",
      "display_name": "Python 3"
    }
  },
  "cells": [
    {
      "cell_type": "markdown",
      "metadata": {
        "id": "view-in-github",
        "colab_type": "text"
      },
      "source": [
        "<a href=\"https://colab.research.google.com/github/prachi732/Investment-risk/blob/master/correlation.ipynb\" target=\"_parent\"><img src=\"https://colab.research.google.com/assets/colab-badge.svg\" alt=\"Open In Colab\"/></a>"
      ]
    },
    {
      "cell_type": "code",
      "metadata": {
        "id": "mlYVEBWl9vjE",
        "colab_type": "code",
        "colab": {
          "base_uri": "https://localhost:8080/",
          "height": 71
        },
        "outputId": "323d69e3-cc9e-47c2-8345-c20bdda37c7c"
      },
      "source": [
        "import numpy as np\n",
        "import pandas as pd\n",
        "from pandas_datareader import data as wb\n",
        "import matplotlib.pyplot as plt"
      ],
      "execution_count": 1,
      "outputs": [
        {
          "output_type": "stream",
          "text": [
            "/usr/local/lib/python3.6/dist-packages/pandas_datareader/compat/__init__.py:7: FutureWarning: pandas.util.testing is deprecated. Use the functions in the public API at pandas.testing instead.\n",
            "  from pandas.util.testing import assert_frame_equal\n"
          ],
          "name": "stderr"
        }
      ]
    },
    {
      "cell_type": "code",
      "metadata": {
        "id": "8oIGfykC97lF",
        "colab_type": "code",
        "colab": {}
      },
      "source": [
        "tickers=['PG','BEI.DE']\n",
        "data=pd.DataFrame()\n",
        "for t in tickers:\n",
        "  data[t]=wb.DataReader(t,data_source='yahoo',start='2007-1-1')['Adj Close']"
      ],
      "execution_count": 0,
      "outputs": []
    },
    {
      "cell_type": "code",
      "metadata": {
        "id": "d6WyLj0h-4Jj",
        "colab_type": "code",
        "colab": {
          "base_uri": "https://localhost:8080/",
          "height": 235
        },
        "outputId": "6f7b26a9-f9ba-48aa-9806-f9ab8b01a217"
      },
      "source": [
        "data.head()"
      ],
      "execution_count": 3,
      "outputs": [
        {
          "output_type": "execute_result",
          "data": {
            "text/html": [
              "<div>\n",
              "<style scoped>\n",
              "    .dataframe tbody tr th:only-of-type {\n",
              "        vertical-align: middle;\n",
              "    }\n",
              "\n",
              "    .dataframe tbody tr th {\n",
              "        vertical-align: top;\n",
              "    }\n",
              "\n",
              "    .dataframe thead th {\n",
              "        text-align: right;\n",
              "    }\n",
              "</style>\n",
              "<table border=\"1\" class=\"dataframe\">\n",
              "  <thead>\n",
              "    <tr style=\"text-align: right;\">\n",
              "      <th></th>\n",
              "      <th>PG</th>\n",
              "      <th>BEI.DE</th>\n",
              "    </tr>\n",
              "    <tr>\n",
              "      <th>Date</th>\n",
              "      <th></th>\n",
              "      <th></th>\n",
              "    </tr>\n",
              "  </thead>\n",
              "  <tbody>\n",
              "    <tr>\n",
              "      <th>2007-01-03</th>\n",
              "      <td>43.143341</td>\n",
              "      <td>39.576427</td>\n",
              "    </tr>\n",
              "    <tr>\n",
              "      <th>2007-01-04</th>\n",
              "      <td>42.815781</td>\n",
              "      <td>39.836281</td>\n",
              "    </tr>\n",
              "    <tr>\n",
              "      <th>2007-01-05</th>\n",
              "      <td>42.448109</td>\n",
              "      <td>39.017349</td>\n",
              "    </tr>\n",
              "    <tr>\n",
              "      <th>2007-01-08</th>\n",
              "      <td>42.541702</td>\n",
              "      <td>39.025219</td>\n",
              "    </tr>\n",
              "    <tr>\n",
              "      <th>2007-01-09</th>\n",
              "      <td>42.434750</td>\n",
              "      <td>38.143303</td>\n",
              "    </tr>\n",
              "  </tbody>\n",
              "</table>\n",
              "</div>"
            ],
            "text/plain": [
              "                   PG     BEI.DE\n",
              "Date                            \n",
              "2007-01-03  43.143341  39.576427\n",
              "2007-01-04  42.815781  39.836281\n",
              "2007-01-05  42.448109  39.017349\n",
              "2007-01-08  42.541702  39.025219\n",
              "2007-01-09  42.434750  38.143303"
            ]
          },
          "metadata": {
            "tags": []
          },
          "execution_count": 3
        }
      ]
    },
    {
      "cell_type": "code",
      "metadata": {
        "id": "ekV367u__APb",
        "colab_type": "code",
        "colab": {
          "base_uri": "https://localhost:8080/",
          "height": 235
        },
        "outputId": "701491a1-5dbe-4c74-a5dc-7326a102d502"
      },
      "source": [
        "returns=np.log(data/data.shift(1))\n",
        "returns.tail()"
      ],
      "execution_count": 6,
      "outputs": [
        {
          "output_type": "execute_result",
          "data": {
            "text/html": [
              "<div>\n",
              "<style scoped>\n",
              "    .dataframe tbody tr th:only-of-type {\n",
              "        vertical-align: middle;\n",
              "    }\n",
              "\n",
              "    .dataframe tbody tr th {\n",
              "        vertical-align: top;\n",
              "    }\n",
              "\n",
              "    .dataframe thead th {\n",
              "        text-align: right;\n",
              "    }\n",
              "</style>\n",
              "<table border=\"1\" class=\"dataframe\">\n",
              "  <thead>\n",
              "    <tr style=\"text-align: right;\">\n",
              "      <th></th>\n",
              "      <th>PG</th>\n",
              "      <th>BEI.DE</th>\n",
              "    </tr>\n",
              "    <tr>\n",
              "      <th>Date</th>\n",
              "      <th></th>\n",
              "      <th></th>\n",
              "    </tr>\n",
              "  </thead>\n",
              "  <tbody>\n",
              "    <tr>\n",
              "      <th>2020-05-28</th>\n",
              "      <td>0.018874</td>\n",
              "      <td>0.017954</td>\n",
              "    </tr>\n",
              "    <tr>\n",
              "      <th>2020-05-29</th>\n",
              "      <td>-0.001207</td>\n",
              "      <td>-0.013488</td>\n",
              "    </tr>\n",
              "    <tr>\n",
              "      <th>2020-06-01</th>\n",
              "      <td>0.011408</td>\n",
              "      <td>NaN</td>\n",
              "    </tr>\n",
              "    <tr>\n",
              "      <th>2020-06-02</th>\n",
              "      <td>0.006885</td>\n",
              "      <td>NaN</td>\n",
              "    </tr>\n",
              "    <tr>\n",
              "      <th>2020-06-03</th>\n",
              "      <td>0.003973</td>\n",
              "      <td>0.028494</td>\n",
              "    </tr>\n",
              "  </tbody>\n",
              "</table>\n",
              "</div>"
            ],
            "text/plain": [
              "                  PG    BEI.DE\n",
              "Date                          \n",
              "2020-05-28  0.018874  0.017954\n",
              "2020-05-29 -0.001207 -0.013488\n",
              "2020-06-01  0.011408       NaN\n",
              "2020-06-02  0.006885       NaN\n",
              "2020-06-03  0.003973  0.028494"
            ]
          },
          "metadata": {
            "tags": []
          },
          "execution_count": 6
        }
      ]
    },
    {
      "cell_type": "markdown",
      "metadata": {
        "id": "tTEB2w8O_jqV",
        "colab_type": "text"
      },
      "source": [
        "**PG**"
      ]
    },
    {
      "cell_type": "code",
      "metadata": {
        "id": "TTM1YX_q_aKe",
        "colab_type": "code",
        "colab": {
          "base_uri": "https://localhost:8080/",
          "height": 34
        },
        "outputId": "55f24d0b-95ef-4cbb-d73d-29982bcd11e7"
      },
      "source": [
        "returns['PG'].mean()"
      ],
      "execution_count": 7,
      "outputs": [
        {
          "output_type": "execute_result",
          "data": {
            "text/plain": [
              "0.0002992709498994192"
            ]
          },
          "metadata": {
            "tags": []
          },
          "execution_count": 7
        }
      ]
    },
    {
      "cell_type": "code",
      "metadata": {
        "id": "-QdE6pzw_sQC",
        "colab_type": "code",
        "colab": {
          "base_uri": "https://localhost:8080/",
          "height": 34
        },
        "outputId": "42d806b2-4288-4ba6-906a-43c34ea644a6"
      },
      "source": [
        "# annual mean of returns\n",
        "returns['PG'].mean()*250"
      ],
      "execution_count": 8,
      "outputs": [
        {
          "output_type": "execute_result",
          "data": {
            "text/plain": [
              "0.07481773747485479"
            ]
          },
          "metadata": {
            "tags": []
          },
          "execution_count": 8
        }
      ]
    },
    {
      "cell_type": "code",
      "metadata": {
        "id": "yDPVTHDU_y32",
        "colab_type": "code",
        "colab": {
          "base_uri": "https://localhost:8080/",
          "height": 34
        },
        "outputId": "aa6aae8e-ae34-4faf-e719-381b99e729b8"
      },
      "source": [
        "returns['PG'].std()"
      ],
      "execution_count": 10,
      "outputs": [
        {
          "output_type": "execute_result",
          "data": {
            "text/plain": [
              "0.011962128327868696"
            ]
          },
          "metadata": {
            "tags": []
          },
          "execution_count": 10
        }
      ]
    },
    {
      "cell_type": "code",
      "metadata": {
        "id": "cY8-R0_kAB2F",
        "colab_type": "code",
        "colab": {
          "base_uri": "https://localhost:8080/",
          "height": 34
        },
        "outputId": "06e8da20-107e-4217-b176-da8e903e0984"
      },
      "source": [
        "returns['PG'].std()*250**0.5"
      ],
      "execution_count": 11,
      "outputs": [
        {
          "output_type": "execute_result",
          "data": {
            "text/plain": [
              "0.18913785589643253"
            ]
          },
          "metadata": {
            "tags": []
          },
          "execution_count": 11
        }
      ]
    },
    {
      "cell_type": "markdown",
      "metadata": {
        "id": "el2HPRJlBK_T",
        "colab_type": "text"
      },
      "source": [
        "**Beiersdorf**\n"
      ]
    },
    {
      "cell_type": "code",
      "metadata": {
        "id": "r5AqnGyiBVS5",
        "colab_type": "code",
        "colab": {
          "base_uri": "https://localhost:8080/",
          "height": 34
        },
        "outputId": "c41083dc-efcd-4b63-f377-ab7f78ead427"
      },
      "source": [
        "returns['BEI.DE'].mean()"
      ],
      "execution_count": 12,
      "outputs": [
        {
          "output_type": "execute_result",
          "data": {
            "text/plain": [
              "0.0002542361530079956"
            ]
          },
          "metadata": {
            "tags": []
          },
          "execution_count": 12
        }
      ]
    },
    {
      "cell_type": "code",
      "metadata": {
        "id": "y0O1hUbfBJO5",
        "colab_type": "code",
        "colab": {
          "base_uri": "https://localhost:8080/",
          "height": 34
        },
        "outputId": "fa87a0e1-60fd-4349-e806-9bd2a8da6ef9"
      },
      "source": [
        "returns['BEI.DE'].mean()*250"
      ],
      "execution_count": 13,
      "outputs": [
        {
          "output_type": "execute_result",
          "data": {
            "text/plain": [
              "0.0635590382519989"
            ]
          },
          "metadata": {
            "tags": []
          },
          "execution_count": 13
        }
      ]
    },
    {
      "cell_type": "code",
      "metadata": {
        "id": "fwzpJXI5Bh4_",
        "colab_type": "code",
        "colab": {
          "base_uri": "https://localhost:8080/",
          "height": 34
        },
        "outputId": "b47a2f11-e3fb-459f-be2b-26658d0c99ed"
      },
      "source": [
        "returns['BEI.DE'].std()"
      ],
      "execution_count": 14,
      "outputs": [
        {
          "output_type": "execute_result",
          "data": {
            "text/plain": [
              "0.013801881708722482"
            ]
          },
          "metadata": {
            "tags": []
          },
          "execution_count": 14
        }
      ]
    },
    {
      "cell_type": "code",
      "metadata": {
        "id": "DVBkqvZHBl3Q",
        "colab_type": "code",
        "colab": {
          "base_uri": "https://localhost:8080/",
          "height": 34
        },
        "outputId": "8581fcce-9220-4230-9e2a-0db2210d5942"
      },
      "source": [
        "returns['BEI.DE'].std()*250**0.5"
      ],
      "execution_count": 15,
      "outputs": [
        {
          "output_type": "execute_result",
          "data": {
            "text/plain": [
              "0.2182269109788984"
            ]
          },
          "metadata": {
            "tags": []
          },
          "execution_count": 15
        }
      ]
    },
    {
      "cell_type": "code",
      "metadata": {
        "id": "Ws3bXaJqBs_v",
        "colab_type": "code",
        "colab": {
          "base_uri": "https://localhost:8080/",
          "height": 68
        },
        "outputId": "383a7fe8-6947-41f5-b494-59a5d964860b"
      },
      "source": [
        "returns.mean()*250"
      ],
      "execution_count": 16,
      "outputs": [
        {
          "output_type": "execute_result",
          "data": {
            "text/plain": [
              "PG        0.074818\n",
              "BEI.DE    0.063559\n",
              "dtype: float64"
            ]
          },
          "metadata": {
            "tags": []
          },
          "execution_count": 16
        }
      ]
    },
    {
      "cell_type": "code",
      "metadata": {
        "id": "xIImEwoyB_Xd",
        "colab_type": "code",
        "colab": {
          "base_uri": "https://localhost:8080/",
          "height": 68
        },
        "outputId": "bf15e3b4-bc97-450e-b58e-e56e86da432a"
      },
      "source": [
        "returns.std()*250**0.5"
      ],
      "execution_count": 17,
      "outputs": [
        {
          "output_type": "execute_result",
          "data": {
            "text/plain": [
              "PG        0.189138\n",
              "BEI.DE    0.218227\n",
              "dtype: float64"
            ]
          },
          "metadata": {
            "tags": []
          },
          "execution_count": 17
        }
      ]
    },
    {
      "cell_type": "markdown",
      "metadata": {
        "id": "bQeTRr5LDUAV",
        "colab_type": "text"
      },
      "source": [
        "**COVARIANCE AND CORRELATION**"
      ]
    },
    {
      "cell_type": "code",
      "metadata": {
        "id": "5uSHppRoDEAr",
        "colab_type": "code",
        "colab": {
          "base_uri": "https://localhost:8080/",
          "height": 34
        },
        "outputId": "7401433a-3ba8-4b24-bf1f-0714673ff156"
      },
      "source": [
        "\n",
        "PG_var=returns['PG'].var()\n",
        "PG_var"
      ],
      "execution_count": 19,
      "outputs": [
        {
          "output_type": "execute_result",
          "data": {
            "text/plain": [
              "0.00014309251413239876"
            ]
          },
          "metadata": {
            "tags": []
          },
          "execution_count": 19
        }
      ]
    },
    {
      "cell_type": "code",
      "metadata": {
        "id": "PZP7pwW8Deoj",
        "colab_type": "code",
        "colab": {
          "base_uri": "https://localhost:8080/",
          "height": 34
        },
        "outputId": "d257a7d5-88df-4f38-9f43-3c71932d36eb"
      },
      "source": [
        "BEI_var=returns['BEI.DE'].var()\n",
        "BEI_var"
      ],
      "execution_count": 22,
      "outputs": [
        {
          "output_type": "execute_result",
          "data": {
            "text/plain": [
              "0.00019049193870156823"
            ]
          },
          "metadata": {
            "tags": []
          },
          "execution_count": 22
        }
      ]
    },
    {
      "cell_type": "code",
      "metadata": {
        "id": "nP6utnSTDsyD",
        "colab_type": "code",
        "colab": {
          "base_uri": "https://localhost:8080/",
          "height": 34
        },
        "outputId": "0640ea5d-3583-4afb-d93e-4b00c7d724bb"
      },
      "source": [
        "PG_var_a=returns['PG'].var()*250\n",
        "\n",
        "PG_var_a\n"
      ],
      "execution_count": 34,
      "outputs": [
        {
          "output_type": "execute_result",
          "data": {
            "text/plain": [
              "0.03577312853309969"
            ]
          },
          "metadata": {
            "tags": []
          },
          "execution_count": 34
        }
      ]
    },
    {
      "cell_type": "code",
      "metadata": {
        "id": "4YAsw-HzEN4p",
        "colab_type": "code",
        "colab": {
          "base_uri": "https://localhost:8080/",
          "height": 34
        },
        "outputId": "edf8649a-28a8-46bf-a874-f7536ca4f12b"
      },
      "source": [
        "BEI_var_a=returns['BEI.DE'].var()*250\n",
        "BEI_var_a"
      ],
      "execution_count": 28,
      "outputs": [
        {
          "output_type": "execute_result",
          "data": {
            "text/plain": [
              "0.04762298467539206"
            ]
          },
          "metadata": {
            "tags": []
          },
          "execution_count": 28
        }
      ]
    },
    {
      "cell_type": "code",
      "metadata": {
        "id": "jyYe2USWFV1U",
        "colab_type": "code",
        "colab": {
          "base_uri": "https://localhost:8080/",
          "height": 111
        },
        "outputId": "6c02d1cb-def9-4cbd-971b-0a6a7fade92d"
      },
      "source": [
        "cov=returns.cov()*250\n",
        "cov"
      ],
      "execution_count": 37,
      "outputs": [
        {
          "output_type": "execute_result",
          "data": {
            "text/html": [
              "<div>\n",
              "<style scoped>\n",
              "    .dataframe tbody tr th:only-of-type {\n",
              "        vertical-align: middle;\n",
              "    }\n",
              "\n",
              "    .dataframe tbody tr th {\n",
              "        vertical-align: top;\n",
              "    }\n",
              "\n",
              "    .dataframe thead th {\n",
              "        text-align: right;\n",
              "    }\n",
              "</style>\n",
              "<table border=\"1\" class=\"dataframe\">\n",
              "  <thead>\n",
              "    <tr style=\"text-align: right;\">\n",
              "      <th></th>\n",
              "      <th>PG</th>\n",
              "      <th>BEI.DE</th>\n",
              "    </tr>\n",
              "  </thead>\n",
              "  <tbody>\n",
              "    <tr>\n",
              "      <th>PG</th>\n",
              "      <td>0.035773</td>\n",
              "      <td>0.011394</td>\n",
              "    </tr>\n",
              "    <tr>\n",
              "      <th>BEI.DE</th>\n",
              "      <td>0.011394</td>\n",
              "      <td>0.047623</td>\n",
              "    </tr>\n",
              "  </tbody>\n",
              "</table>\n",
              "</div>"
            ],
            "text/plain": [
              "              PG    BEI.DE\n",
              "PG      0.035773  0.011394\n",
              "BEI.DE  0.011394  0.047623"
            ]
          },
          "metadata": {
            "tags": []
          },
          "execution_count": 37
        }
      ]
    },
    {
      "cell_type": "code",
      "metadata": {
        "id": "8TyZkhCUF4IT",
        "colab_type": "code",
        "colab": {
          "base_uri": "https://localhost:8080/",
          "height": 111
        },
        "outputId": "4788d0b9-3869-43f1-fc47-50aafb3ccfc2"
      },
      "source": [
        "corr=returns.corr()\n",
        "corr"
      ],
      "execution_count": 39,
      "outputs": [
        {
          "output_type": "execute_result",
          "data": {
            "text/html": [
              "<div>\n",
              "<style scoped>\n",
              "    .dataframe tbody tr th:only-of-type {\n",
              "        vertical-align: middle;\n",
              "    }\n",
              "\n",
              "    .dataframe tbody tr th {\n",
              "        vertical-align: top;\n",
              "    }\n",
              "\n",
              "    .dataframe thead th {\n",
              "        text-align: right;\n",
              "    }\n",
              "</style>\n",
              "<table border=\"1\" class=\"dataframe\">\n",
              "  <thead>\n",
              "    <tr style=\"text-align: right;\">\n",
              "      <th></th>\n",
              "      <th>PG</th>\n",
              "      <th>BEI.DE</th>\n",
              "    </tr>\n",
              "  </thead>\n",
              "  <tbody>\n",
              "    <tr>\n",
              "      <th>PG</th>\n",
              "      <td>1.00000</td>\n",
              "      <td>0.27564</td>\n",
              "    </tr>\n",
              "    <tr>\n",
              "      <th>BEI.DE</th>\n",
              "      <td>0.27564</td>\n",
              "      <td>1.00000</td>\n",
              "    </tr>\n",
              "  </tbody>\n",
              "</table>\n",
              "</div>"
            ],
            "text/plain": [
              "             PG   BEI.DE\n",
              "PG      1.00000  0.27564\n",
              "BEI.DE  0.27564  1.00000"
            ]
          },
          "metadata": {
            "tags": []
          },
          "execution_count": 39
        }
      ]
    }
  ]
}